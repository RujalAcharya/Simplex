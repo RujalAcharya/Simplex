{
 "cells": [
  {
   "cell_type": "markdown",
   "id": "86b540d5-2937-43ce-b001-b7e6e06abfd4",
   "metadata": {},
   "source": [
    "### Imporing headers"
   ]
  },
  {
   "cell_type": "code",
   "execution_count": 2,
   "id": "ba3923ce-13a4-49a1-94a1-d89d73a1c865",
   "metadata": {},
   "outputs": [],
   "source": [
    "import numpy as np\n",
    "from linearmodel import LinearModel"
   ]
  },
  {
   "cell_type": "markdown",
   "id": "9c1c585f-77bf-4b31-bda4-0638a821919c",
   "metadata": {},
   "source": [
    "### Example 1\n",
    "Maximize $P = 5x_1 + 5x_2$ \\\n",
    "Subject to \\\n",
    "$2x_1 + x_2 \\le 10$ \\\n",
    "$x_1 + 2x_2 \\le 8$ \\\n",
    "$x_1, x_2 \\ge 0$"
   ]
  },
  {
   "cell_type": "code",
   "execution_count": 3,
   "id": "760ef83d-fbf3-4792-af8f-14f8a5b21c83",
   "metadata": {},
   "outputs": [],
   "source": [
    "# filling up arrays\n",
    "A = np.array([[2, 1], [1, 2]])\n",
    "B = np.array([10, 8])\n",
    "C = np.array([5, 5])"
   ]
  },
  {
   "cell_type": "code",
   "execution_count": 4,
   "id": "71a06ba0-f9b8-4a6e-a760-86d16e8b16f7",
   "metadata": {},
   "outputs": [],
   "source": [
    "# optimization\n",
    "lm = LinearModel(A, B, C)\n",
    "lm.optimize()"
   ]
  },
  {
   "cell_type": "code",
   "execution_count": 5,
   "id": "f61d5257-ac9a-4f60-998c-cbd437bcaa7c",
   "metadata": {},
   "outputs": [
    {
     "data": {
      "text/plain": [
       "array([[ 1.        ,  0.        ,  0.66666667, -0.33333333,  0.        ,\n",
       "         4.        ],\n",
       "       [ 0.        ,  1.        , -0.33333333,  0.66666667,  0.        ,\n",
       "         2.        ],\n",
       "       [ 0.        ,  0.        ,  1.66666667,  1.66666667,  1.        ,\n",
       "        30.        ]])"
      ]
     },
     "execution_count": 5,
     "metadata": {},
     "output_type": "execute_result"
    }
   ],
   "source": [
    "#the optimal simplex tableau\n",
    "lm.tableau"
   ]
  },
  {
   "cell_type": "code",
   "execution_count": 6,
   "id": "027e8385-b093-40a0-bd71-2e1caf26d0bf",
   "metadata": {},
   "outputs": [
    {
     "data": {
      "text/plain": [
       "array([4., 2.])"
      ]
     },
     "execution_count": 6,
     "metadata": {},
     "output_type": "execute_result"
    }
   ],
   "source": [
    "# optimal solution of (x1, x2)\n",
    "lm.optimalSoln()"
   ]
  },
  {
   "cell_type": "code",
   "execution_count": 8,
   "id": "623c838e-5b96-48a3-a998-f2d9e7dbd1cc",
   "metadata": {},
   "outputs": [
    {
     "data": {
      "text/plain": [
       "30.0"
      ]
     },
     "execution_count": 8,
     "metadata": {},
     "output_type": "execute_result"
    }
   ],
   "source": [
    "# optimal value of P\n",
    "lm.optimalVal()"
   ]
  },
  {
   "cell_type": "markdown",
   "id": "4475033b-d4f9-4d40-b033-736836dbe23f",
   "metadata": {},
   "source": [
    "Hence the optimal value of problem is, \\\n",
    "$P = 30$ at $x_1 = 4, x_2 = 2$"
   ]
  },
  {
   "cell_type": "markdown",
   "id": "62fe39a3-9854-4958-be0e-c25a59e64027",
   "metadata": {},
   "source": [
    "### Example 2\n",
    "Maximize $P = 30x_1 + 40x_2$ \\\n",
    "subject to \\\n",
    "$2x_1 + x_2 \\le 10$ \\\n",
    "$x_1 + x_2 \\le 7$ \\\n",
    "$x_1 + 2x_2 \\le 12$ \\\n",
    "$x_1, x_2 \\ge 0$"
   ]
  },
  {
   "cell_type": "code",
   "execution_count": 9,
   "id": "b1a234d7-8453-4a06-bc9a-d4b050bb41be",
   "metadata": {},
   "outputs": [],
   "source": [
    "# filling up arrays\n",
    "D = np.array([[2, 1], [1, 1], [1, 2]])\n",
    "E = np.array([10, 7, 12])\n",
    "F = np.array([30, 40])"
   ]
  },
  {
   "cell_type": "code",
   "execution_count": 11,
   "id": "c0afb723-26cd-43b6-8b92-14256d44d34a",
   "metadata": {},
   "outputs": [],
   "source": [
    "# optimization\n",
    "lm2 = LinearModel(D, E, F)\n",
    "lm2.optimize()"
   ]
  },
  {
   "cell_type": "code",
   "execution_count": 12,
   "id": "8b63bfd8-7c53-4b2b-b3c7-4d493e16d269",
   "metadata": {},
   "outputs": [
    {
     "data": {
      "text/plain": [
       "array([[  0.,   0.,   1.,  -3.,   1.,   0.,   1.],\n",
       "       [  1.,   0.,   0.,   2.,  -1.,   0.,   2.],\n",
       "       [  0.,   1.,   0.,  -1.,   1.,   0.,   5.],\n",
       "       [  0.,   0.,   0.,  20.,  10.,   1., 260.]])"
      ]
     },
     "execution_count": 12,
     "metadata": {},
     "output_type": "execute_result"
    }
   ],
   "source": [
    "#the optimal simplex tableau\n",
    "lm2.tableau"
   ]
  },
  {
   "cell_type": "code",
   "execution_count": 14,
   "id": "f5bf7d6d-1b2d-44c2-aaf3-a05c0ffee283",
   "metadata": {},
   "outputs": [
    {
     "data": {
      "text/plain": [
       "array([2., 5.])"
      ]
     },
     "execution_count": 14,
     "metadata": {},
     "output_type": "execute_result"
    }
   ],
   "source": [
    "# optimal solution of (x1, x2)\n",
    "lm2.optimalSoln()"
   ]
  },
  {
   "cell_type": "code",
   "execution_count": 15,
   "id": "3a825467-0f22-4302-9d27-62f177b71e78",
   "metadata": {},
   "outputs": [
    {
     "data": {
      "text/plain": [
       "260.0"
      ]
     },
     "execution_count": 15,
     "metadata": {},
     "output_type": "execute_result"
    }
   ],
   "source": [
    "# optimal value of P\n",
    "lm2.optimalVal()"
   ]
  },
  {
   "cell_type": "code",
   "execution_count": null,
   "id": "1c381898-88cc-4f4f-a73a-0e7367f56e6f",
   "metadata": {},
   "outputs": [],
   "source": []
  }
 ],
 "metadata": {
  "kernelspec": {
   "display_name": "Python 3",
   "language": "python",
   "name": "python3"
  },
  "language_info": {
   "codemirror_mode": {
    "name": "ipython",
    "version": 3
   },
   "file_extension": ".py",
   "mimetype": "text/x-python",
   "name": "python",
   "nbconvert_exporter": "python",
   "pygments_lexer": "ipython3",
   "version": "3.8.5"
  }
 },
 "nbformat": 4,
 "nbformat_minor": 5
}